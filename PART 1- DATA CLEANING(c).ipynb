{
  "nbformat": 4,
  "nbformat_minor": 0,
  "metadata": {
    "colab": {
      "provenance": []
    },
    "kernelspec": {
      "name": "python3",
      "display_name": "Python 3"
    },
    "language_info": {
      "name": "python"
    }
  },
  "cells": [
    {
      "cell_type": "code",
      "execution_count": null,
      "metadata": {
        "colab": {
          "base_uri": "https://localhost:8080/"
        },
        "id": "W7iBVcVAHx3l",
        "outputId": "0b9b8bf3-baa6-47cb-9216-a669f455d82d"
      },
      "outputs": [
        {
          "output_type": "stream",
          "name": "stdout",
          "text": [
            "+----+-----+---+-----------+----+-------------+-----------+--------------+-------------------+-------------------+--------------+---------------+--------+----------+--------------+------------+--------+--------+---------+-------+-----------------+------------+-------------+--------+---------+-------------------+-----------------+------------------+-----------------+-------------------+-----------------+-----------------+-------------------------------------------+-------------+------------+--------------+---------------+----------------+-------------------------------------------+----------------+-----------------+-------------------+--------------------+---------------------+----------+\n",
            "|YEAR|MONTH|DAY|DAY_OF_WEEK|AIRL|FLIGHT_NUMBER|TAIL_NUMBER|ORIGIN_AIRPORT|DESTINATION_AIRPORT|SCHEDULED_DEPARTURE|DEPARTURE_TIME|DEPARTURE_DELAY|TAXI_OUT|WHEELS_OFF|SCHEDULED_TIME|ELAPSED_TIME|AIR_TIME|DISTANCE|WHEELS_ON|TAXI_IN|SCHEDULED_ARRIVAL|ARRIVAL_TIME|ARRIVAL_DELAY|DIVERTED|CANCELLED|CANCELLATION_REASON|AIR_SYSTEM_DELAY |SECURITY_DELAY    |AIRLINE_DELAY    |LATE_AIRCRAFT_DELAY|WEATHER_DELAY    |FLIGHT           |ORIGIN_AIRPORT_NAME                        |ORIGIN_CITY  |ORIGIN_STATE|ORIGIN_COUNTRY|ORIGIN_LATITUDE|ORIGIN_LONGITUDE|DESTINATION_AIRPORT_NAME                   |DESTINATION_CITY|DESTINATION_STATE|DESTINATION_COUNTRY|DESTINATION_LATITUDE|DESTINATION_LONGITUDE|DATE      |\n",
            "+----+-----+---+-----------+----+-------------+-----------+--------------+-------------------+-------------------+--------------+---------------+--------+----------+--------------+------------+--------+--------+---------+-------+-----------------+------------+-------------+--------+---------+-------------------+-----------------+------------------+-----------------+-------------------+-----------------+-----------------+-------------------------------------------+-------------+------------+--------------+---------------+----------------+-------------------------------------------+----------------+-----------------+-------------------+--------------------+---------------------+----------+\n",
            "|2022|1    |1  |4          |AS  |98           |N407AS     |ANC           |SEA                |2022-01-01 00:05:00|23:54:00      |-11.0          |21.0    |15.0      |205.0         |194.0       |169.0   |1448    |404.0    |4.0    |04:30:00         |04:08:00    |-22.0        |0       |0        |NULL               |13.84751697373517|0.0661718793224733|17.91956939273943|22.707206032295545 |3.196397379049787|Alaska Airlines  |Ted Stevens Anchorage International Airport|Anchorage    |AK          |USA           |61.17432       |-149.99619      |Seattle-Tacoma International Airport       |Seattle         |WA               |USA                |47.44898            |-122.30931           |2022-01-01|\n",
            "|2022|1    |1  |4          |AA  |2336         |N3KUAA     |LAX           |PBI                |2022-01-01 00:10:00|00:02:00      |-8.0           |12.0    |14.0      |280.0         |279.0       |263.0   |2330    |737.0    |4.0    |07:50:00         |07:41:00    |-9.0         |0       |0        |NULL               |13.84751697373517|0.0661718793224733|17.91956939273943|22.707206032295545 |3.196397379049787|American Airlines|Los Angeles International Airport          |Los Angeles  |CA          |USA           |33.94254       |-118.40807      |Palm Beach International Airport           |West Palm Beach |FL               |USA                |26.68316            |-80.09559            |2022-01-01|\n",
            "|2022|1    |1  |4          |US  |840          |N171US     |SFO           |CLT                |2022-01-01 00:20:00|00:18:00      |-2.0           |16.0    |34.0      |286.0         |293.0       |266.0   |2296    |800.0    |11.0   |08:06:00         |08:11:00    |5.0          |0       |0        |NULL               |13.84751697373517|0.0661718793224733|17.91956939273943|22.707206032295545 |3.196397379049787|US Airways       |San Francisco International Airport        |San Francisco|CA          |USA           |37.619         |-122.37484      |Charlotte Douglas International Airport    |Charlotte       |NC               |USA                |35.21401            |-80.94313            |2022-01-01|\n",
            "|2022|1    |1  |4          |AA  |258          |N3HYAA     |LAX           |MIA                |2022-01-01 00:20:00|00:15:00      |-5.0           |15.0    |30.0      |285.0         |281.0       |258.0   |2342    |748.0    |8.0    |08:05:00         |07:56:00    |-9.0         |0       |0        |NULL               |13.84751697373517|0.0661718793224733|17.91956939273943|22.707206032295545 |3.196397379049787|American Airlines|Los Angeles International Airport          |Los Angeles  |CA          |USA           |33.94254       |-118.40807      |Miami International Airport                |Miami           |FL               |USA                |25.79325            |-80.29056            |2022-01-01|\n",
            "|2022|1    |1  |4          |AS  |135          |N527AS     |SEA           |ANC                |2022-01-01 00:25:00|00:24:00      |-1.0           |11.0    |35.0      |235.0         |215.0       |199.0   |1448    |254.0    |5.0    |03:20:00         |02:59:00    |-21.0        |0       |0        |NULL               |13.84751697373517|0.0661718793224733|17.91956939273943|22.707206032295545 |3.196397379049787|Alaska Airlines  |Seattle-Tacoma International Airport       |Seattle      |WA          |USA           |47.44898       |-122.30931      |Ted Stevens Anchorage International Airport|Anchorage       |AK               |USA                |61.17432            |-149.99619           |2022-01-01|\n",
            "+----+-----+---+-----------+----+-------------+-----------+--------------+-------------------+-------------------+--------------+---------------+--------+----------+--------------+------------+--------+--------+---------+-------+-----------------+------------+-------------+--------+---------+-------------------+-----------------+------------------+-----------------+-------------------+-----------------+-----------------+-------------------------------------------+-------------+------------+--------------+---------------+----------------+-------------------------------------------+----------------+-----------------+-------------------+--------------------+---------------------+----------+\n",
            "only showing top 5 rows\n",
            "\n"
          ]
        }
      ],
      "source": [
        "from pyspark.sql import SparkSession\n",
        "from pyspark.sql.functions import udf, col, to_timestamp, when, concat, lit, date_format\n",
        "from pyspark.sql.types import TimestampType, StringType\n",
        "import datetime\n",
        "\n",
        "# Initialize Spark session\n",
        "spark = SparkSession.builder.appName(\"FlightDataCleaning\").getOrCreate()\n",
        "\n",
        "# Read the CSV file\n",
        "df = spark.read.csv('cleaned__df.csv', header=True, inferSchema=True)\n",
        "\n",
        "# UDF to format time\n",
        "def format_heure(chaine):\n",
        "    if chaine is None:\n",
        "        return None\n",
        "    chaine = int(chaine)\n",
        "    if chaine == 2400:\n",
        "        chaine = 0\n",
        "    return \"{0:02d}:{1:02d}:00\".format(chaine // 100, chaine % 100)\n",
        "\n",
        "format_heure_udf = udf(format_heure, StringType())\n",
        "\n",
        "# Apply the UDF to time columns\n",
        "time_columns = [\"SCHEDULED_ARRIVAL\", \"DEPARTURE_TIME\", \"ARRIVAL_TIME\"]\n",
        "for col_name in time_columns:\n",
        "    df = df.withColumn(col_name, format_heure_udf(col(col_name)))\n",
        "\n",
        "# Combine date and time for SCHEDULED_DEPARTURE\n",
        "df = df.withColumn(\"SCHEDULED_DEPARTURE\",\n",
        "    to_timestamp(\n",
        "        when(format_heure_udf(col(\"SCHEDULED_DEPARTURE\")) == \"00:00:00\",\n",
        "             date_add(col(\"DATE\"), 1).cast(\"string\") + \" \" + format_heure_udf(col(\"SCHEDULED_DEPARTURE\")))\n",
        "        .otherwise(concat(col(\"DATE\").cast(\"string\"), lit(\" \"), format_heure_udf(col(\"SCHEDULED_DEPARTURE\"))))\n",
        "    )\n",
        ")\n",
        "\n",
        "# Format SCHEDULED_DEPARTURE as desired\n",
        "df = df.withColumn(\"SCHEDULED_DEPARTURE\", date_format(col(\"SCHEDULED_DEPARTURE\"), \"yyyy-MM-dd HH:mm:ss\"))\n",
        "\n",
        "# Show all columns with a focus on the formatted ones\n",
        "df.select(\"*\").show(5, truncate=False)\n",
        "\n",
        "# Optionally, write the entire dataset to a CSV file\n",
        "df.coalesce(1).write.mode(\"overwrite\").option(\"header\", \"true\").csv('cleaned_full_flight_data.csv')\n",
        "\n",
        "# Stop the Spark session\n",
        "spark.stop()"
      ]
    },
    {
      "cell_type": "code",
      "source": [
        "\n",
        "# Optionally, write the cleaned DataFrame back to a CSV file\n",
        "cleaned__df.coalesce(1).write.mode(\"overwrite\").csv('output_file_path.csv', header=True)\n",
        "\n",
        "# Stop the Spark session\n",
        "spark.stop()"
      ],
      "metadata": {
        "colab": {
          "base_uri": "https://localhost:8080/",
          "height": 295
        },
        "id": "bOwt7Mo4IZov",
        "outputId": "f9645d9a-9e06-464e-a773-41e3e3ecab47"
      },
      "execution_count": null,
      "outputs": [
        {
          "output_type": "error",
          "ename": "NameError",
          "evalue": "name 'cleaned__df' is not defined",
          "traceback": [
            "\u001b[0;31m---------------------------------------------------------------------------\u001b[0m",
            "\u001b[0;31mNameError\u001b[0m                                 Traceback (most recent call last)",
            "\u001b[0;32m<ipython-input-9-b9797b9073ef>\u001b[0m in \u001b[0;36m<cell line: 2>\u001b[0;34m()\u001b[0m\n\u001b[1;32m      1\u001b[0m \u001b[0;31m# Optionally, write the cleaned DataFrame back to a CSV file\u001b[0m\u001b[0;34m\u001b[0m\u001b[0;34m\u001b[0m\u001b[0m\n\u001b[0;32m----> 2\u001b[0;31m \u001b[0mcleaned__df\u001b[0m\u001b[0;34m.\u001b[0m\u001b[0mcoalesce\u001b[0m\u001b[0;34m(\u001b[0m\u001b[0;36m1\u001b[0m\u001b[0;34m)\u001b[0m\u001b[0;34m.\u001b[0m\u001b[0mwrite\u001b[0m\u001b[0;34m.\u001b[0m\u001b[0mmode\u001b[0m\u001b[0;34m(\u001b[0m\u001b[0;34m\"overwrite\"\u001b[0m\u001b[0;34m)\u001b[0m\u001b[0;34m.\u001b[0m\u001b[0mcsv\u001b[0m\u001b[0;34m(\u001b[0m\u001b[0;34m'output_file_path.csv'\u001b[0m\u001b[0;34m,\u001b[0m \u001b[0mheader\u001b[0m\u001b[0;34m=\u001b[0m\u001b[0;32mTrue\u001b[0m\u001b[0;34m)\u001b[0m\u001b[0;34m\u001b[0m\u001b[0;34m\u001b[0m\u001b[0m\n\u001b[0m\u001b[1;32m      3\u001b[0m \u001b[0;34m\u001b[0m\u001b[0m\n\u001b[1;32m      4\u001b[0m \u001b[0;31m# Stop the Spark session\u001b[0m\u001b[0;34m\u001b[0m\u001b[0;34m\u001b[0m\u001b[0m\n\u001b[1;32m      5\u001b[0m \u001b[0mspark\u001b[0m\u001b[0;34m.\u001b[0m\u001b[0mstop\u001b[0m\u001b[0;34m(\u001b[0m\u001b[0;34m)\u001b[0m\u001b[0;34m\u001b[0m\u001b[0;34m\u001b[0m\u001b[0m\n",
            "\u001b[0;31mNameError\u001b[0m: name 'cleaned__df' is not defined"
          ]
        }
      ]
    },
    {
      "cell_type": "code",
      "source": [],
      "metadata": {
        "id": "Z3IvqARUJ0yz"
      },
      "execution_count": null,
      "outputs": []
    }
  ]
}