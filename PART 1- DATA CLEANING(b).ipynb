{
  "nbformat": 4,
  "nbformat_minor": 0,
  "metadata": {
    "colab": {
      "provenance": []
    },
    "kernelspec": {
      "name": "python3",
      "display_name": "Python 3"
    },
    "language_info": {
      "name": "python"
    }
  },
  "cells": [
    {
      "cell_type": "code",
      "execution_count": null,
      "metadata": {
        "id": "LC0CHYvoOCBC"
      },
      "outputs": [],
      "source": [
        "import pandas as pd"
      ]
    },
    {
      "cell_type": "code",
      "source": [
        "\n",
        "airlines = pd.read_csv('airlines.csv')\n",
        "airports = pd.read_csv('airports.csv')\n",
        "flights = pd.read_csv('flights.csv')"
      ],
      "metadata": {
        "colab": {
          "base_uri": "https://localhost:8080/"
        },
        "id": "RE2yWM64PQum",
        "outputId": "9aeae33c-8b90-4cfb-9765-51ea67c91c57"
      },
      "execution_count": null,
      "outputs": [
        {
          "output_type": "stream",
          "name": "stderr",
          "text": [
            "<ipython-input-20-f2a11360aa29>:3: DtypeWarning: Columns (7,8) have mixed types. Specify dtype option on import or set low_memory=False.\n",
            "  flights = pd.read_csv('flights.csv')\n"
          ]
        }
      ]
    },
    {
      "cell_type": "code",
      "source": [
        "flights['YEAR'] = flights['YEAR'].replace(2015, 2022)\n"
      ],
      "metadata": {
        "id": "AqFG7FcjPTsy"
      },
      "execution_count": null,
      "outputs": []
    },
    {
      "cell_type": "code",
      "source": [
        "flights.to_csv('Flights.csv', index=False)\n",
        "files.download('Flights.csv')"
      ],
      "metadata": {
        "colab": {
          "base_uri": "https://localhost:8080/",
          "height": 34
        },
        "id": "MyEvRjZcV1yz",
        "outputId": "256eec4f-965a-457f-a3f1-82aed7a19da8"
      },
      "execution_count": null,
      "outputs": [
        {
          "output_type": "display_data",
          "data": {
            "text/plain": [
              "<IPython.core.display.Javascript object>"
            ],
            "application/javascript": [
              "\n",
              "    async function download(id, filename, size) {\n",
              "      if (!google.colab.kernel.accessAllowed) {\n",
              "        return;\n",
              "      }\n",
              "      const div = document.createElement('div');\n",
              "      const label = document.createElement('label');\n",
              "      label.textContent = `Downloading \"${filename}\": `;\n",
              "      div.appendChild(label);\n",
              "      const progress = document.createElement('progress');\n",
              "      progress.max = size;\n",
              "      div.appendChild(progress);\n",
              "      document.body.appendChild(div);\n",
              "\n",
              "      const buffers = [];\n",
              "      let downloaded = 0;\n",
              "\n",
              "      const channel = await google.colab.kernel.comms.open(id);\n",
              "      // Send a message to notify the kernel that we're ready.\n",
              "      channel.send({})\n",
              "\n",
              "      for await (const message of channel.messages) {\n",
              "        // Send a message to notify the kernel that we're ready.\n",
              "        channel.send({})\n",
              "        if (message.buffers) {\n",
              "          for (const buffer of message.buffers) {\n",
              "            buffers.push(buffer);\n",
              "            downloaded += buffer.byteLength;\n",
              "            progress.value = downloaded;\n",
              "          }\n",
              "        }\n",
              "      }\n",
              "      const blob = new Blob(buffers, {type: 'application/binary'});\n",
              "      const a = document.createElement('a');\n",
              "      a.href = window.URL.createObjectURL(blob);\n",
              "      a.download = filename;\n",
              "      div.appendChild(a);\n",
              "      a.click();\n",
              "      div.remove();\n",
              "    }\n",
              "  "
            ]
          },
          "metadata": {}
        },
        {
          "output_type": "display_data",
          "data": {
            "text/plain": [
              "<IPython.core.display.Javascript object>"
            ],
            "application/javascript": [
              "download(\"download_eb409880-fb29-41b0-ad98-2041d6b8d4e5\", \"Flights.csv\", 720620465)"
            ]
          },
          "metadata": {}
        }
      ]
    },
    {
      "cell_type": "code",
      "source": [
        "flights.AIRLINE.unique()"
      ],
      "metadata": {
        "colab": {
          "base_uri": "https://localhost:8080/"
        },
        "id": "GiUypaFPQo_V",
        "outputId": "cbcc79dc-d7d6-4d81-a3ca-f753371f5ad9"
      },
      "execution_count": null,
      "outputs": [
        {
          "output_type": "execute_result",
          "data": {
            "text/plain": [
              "array(['AS', 'AA', 'US', 'DL', 'NK', 'UA', 'HA', 'B6', 'OO', 'EV', 'MQ',\n",
              "       'F9', 'WN', 'VX'], dtype=object)"
            ]
          },
          "metadata": {},
          "execution_count": 8
        }
      ]
    },
    {
      "cell_type": "code",
      "source": [
        "airlines.AIRLINE.unique()"
      ],
      "metadata": {
        "colab": {
          "base_uri": "https://localhost:8080/"
        },
        "id": "eQ6Zo0G-QpEK",
        "outputId": "59c49ba1-c362-4209-8c59-6542f6e24502"
      },
      "execution_count": null,
      "outputs": [
        {
          "output_type": "execute_result",
          "data": {
            "text/plain": [
              "array(['United Air Lines Inc.', 'American Airlines Inc.',\n",
              "       'US Airways Inc.', 'Frontier Airlines Inc.', 'JetBlue Airways',\n",
              "       'Skywest Airlines Inc.', 'Alaska Airlines Inc.',\n",
              "       'Spirit Air Lines', 'Southwest Airlines Co.',\n",
              "       'Delta Air Lines Inc.', 'Atlantic Southeast Airlines',\n",
              "       'Hawaiian Airlines Inc.', 'American Eagle Airlines Inc.',\n",
              "       'Virgin America'], dtype=object)"
            ]
          },
          "metadata": {},
          "execution_count": 9
        }
      ]
    },
    {
      "cell_type": "code",
      "source": [
        "airlines['AIRLINE'] = airlines['AIRLINE'].replace('United Air Lines Inc.', 'United Air Lines' )\n",
        "airlines['AIRLINE'] = airlines['AIRLINE'].replace('American Airlines Inc.', 'American Airlines' )\n",
        "airlines['AIRLINE'] = airlines['AIRLINE'].replace('US Airways Inc.', 'US Airways' )\n",
        "airlines['AIRLINE'] = airlines['AIRLINE'].replace('Frontier Airlines Inc.', 'Frontier Airlines' )\n",
        "airlines['AIRLINE'] = airlines['AIRLINE'].replace('Skywest Airlines Inc.', 'Skywest Airlines' )\n",
        "airlines['AIRLINE'] = airlines['AIRLINE'].replace('Alaska Airlines Inc.', 'Alaska Airlines' )\n",
        "airlines['AIRLINE'] = airlines['AIRLINE'].replace('Southwest Airlines Co.', 'Southwest Airlines' )\n",
        "airlines['AIRLINE'] = airlines['AIRLINE'].replace('Delta Air Lines Inc.', 'Delta Air Lines' )\n",
        "airlines['AIRLINE'] = airlines['AIRLINE'].replace('Hawaiian Airlines Inc.', 'Hawaiian Airlines' )\n",
        "airlines['AIRLINE'] = airlines['AIRLINE'].replace('American Eagle Airlines Inc.', 'American Eagle Airlines' )"
      ],
      "metadata": {
        "id": "0Z9XEQYdQoAv"
      },
      "execution_count": null,
      "outputs": []
    },
    {
      "cell_type": "code",
      "source": [
        "airlines.to_csv('Airlines.csv', index=False)"
      ],
      "metadata": {
        "id": "bp3zMBWoV2nw"
      },
      "execution_count": null,
      "outputs": []
    },
    {
      "cell_type": "code",
      "source": [
        "from google.colab import files\n",
        "\n",
        "# Save and download the CSV file\n",
        "airlines.to_csv('Airlines.csv', index=False)\n",
        "files.download('Airlines.csv')"
      ],
      "metadata": {
        "colab": {
          "base_uri": "https://localhost:8080/",
          "height": 17
        },
        "id": "Wl7U5CKAWjJb",
        "outputId": "7c0c9cb9-52dc-4a8a-dd4a-68f48b548efd"
      },
      "execution_count": null,
      "outputs": [
        {
          "output_type": "display_data",
          "data": {
            "text/plain": [
              "<IPython.core.display.Javascript object>"
            ],
            "application/javascript": [
              "\n",
              "    async function download(id, filename, size) {\n",
              "      if (!google.colab.kernel.accessAllowed) {\n",
              "        return;\n",
              "      }\n",
              "      const div = document.createElement('div');\n",
              "      const label = document.createElement('label');\n",
              "      label.textContent = `Downloading \"${filename}\": `;\n",
              "      div.appendChild(label);\n",
              "      const progress = document.createElement('progress');\n",
              "      progress.max = size;\n",
              "      div.appendChild(progress);\n",
              "      document.body.appendChild(div);\n",
              "\n",
              "      const buffers = [];\n",
              "      let downloaded = 0;\n",
              "\n",
              "      const channel = await google.colab.kernel.comms.open(id);\n",
              "      // Send a message to notify the kernel that we're ready.\n",
              "      channel.send({})\n",
              "\n",
              "      for await (const message of channel.messages) {\n",
              "        // Send a message to notify the kernel that we're ready.\n",
              "        channel.send({})\n",
              "        if (message.buffers) {\n",
              "          for (const buffer of message.buffers) {\n",
              "            buffers.push(buffer);\n",
              "            downloaded += buffer.byteLength;\n",
              "            progress.value = downloaded;\n",
              "          }\n",
              "        }\n",
              "      }\n",
              "      const blob = new Blob(buffers, {type: 'application/binary'});\n",
              "      const a = document.createElement('a');\n",
              "      a.href = window.URL.createObjectURL(blob);\n",
              "      a.download = filename;\n",
              "      div.appendChild(a);\n",
              "      a.click();\n",
              "      div.remove();\n",
              "    }\n",
              "  "
            ]
          },
          "metadata": {}
        },
        {
          "output_type": "display_data",
          "data": {
            "text/plain": [
              "<IPython.core.display.Javascript object>"
            ],
            "application/javascript": [
              "download(\"download_6b657813-f614-458b-af7c-094856262d93\", \"Airlines.csv\", 302)"
            ]
          },
          "metadata": {}
        }
      ]
    },
    {
      "cell_type": "code",
      "source": [],
      "metadata": {
        "id": "jtO16ZQ1SI9A"
      },
      "execution_count": null,
      "outputs": []
    }
  ]
}